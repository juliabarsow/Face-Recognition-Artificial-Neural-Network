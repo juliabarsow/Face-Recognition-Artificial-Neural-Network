{
 "cells": [
  {
   "cell_type": "code",
   "execution_count": 3,
   "metadata": {},
   "outputs": [],
   "source": [
    "import tensorflow as tf\n",
    "from tensorflow.keras import datasets, layers, models\n",
    "import matplotlib.pyplot as plt\n",
    "import numpy as np\n",
    "from sklearn.model_selection import train_test_split\n"
   ]
  },
  {
   "cell_type": "code",
   "execution_count": 5,
   "metadata": {},
   "outputs": [],
   "source": [
    "def load_data(file_path):\n",
    "    with open(file_path, 'r') as file:\n",
    "        lines = file.readlines()\n",
    "    \n",
    "    # Extracting L and N values (the first two lines of code) and leaving the pixel values and attributes\n",
    "    L = int(lines[0].strip())  # number of example images\n",
    "    N = int(lines[1].strip())  # number of pixels in each image\n",
    "    \n",
    "    # Initialize arrays to store pixel intensities and attributes\n",
    "    pixel_intensities_array = np.zeros((L, N))\n",
    "    attributes_array = np.zeros((L, len(lines[2].split()) - N))\n",
    "    \n",
    "    # Extracting examples\n",
    "    for i, line in enumerate(lines[2:]):\n",
    "        example_data = list(map(float, line.split()))\n",
    "        pixel_intensities_array[i] = example_data[:N]\n",
    "        attributes_array[i] = example_data[N:]\n",
    "    \n",
    "    return pixel_intensities_array, attributes_array\n",
    "\n",
    "# Load data from each file\n",
    "x24x24_pixel_intensities, x24x24_attributes = load_data('/Users/juliabarsow/Desktop/projekt_AI/famous48/x24x24.txt')\n",
    "y24x24_pixel_intensities, y24x24_attributes = load_data('/Users/juliabarsow/Desktop/projekt_AI/famous48/y24x24.txt')\n",
    "z24x24_pixel_intensities, z24x24_attributes = load_data('/Users/juliabarsow/Desktop/projekt_AI/famous48/z24x24.txt')\n",
    "\n",
    "# Merging datasets\n",
    "merged_pixel_intensities = np.concatenate((x24x24_pixel_intensities, y24x24_pixel_intensities, z24x24_pixel_intensities), axis=0)\n",
    "merged_attributes = np.concatenate((x24x24_attributes, y24x24_attributes, z24x24_attributes), axis=0)\n"
   ]
  },
  {
   "cell_type": "code",
   "execution_count": 6,
   "metadata": {},
   "outputs": [
    {
     "data": {
      "text/plain": [
       "(6835, 576)"
      ]
     },
     "execution_count": 6,
     "metadata": {},
     "output_type": "execute_result"
    }
   ],
   "source": [
    "np.shape(merged_pixel_intensities) #we check if the shape of data is homogenous"
   ]
  },
  {
   "cell_type": "code",
   "execution_count": 7,
   "metadata": {},
   "outputs": [
    {
     "data": {
      "text/plain": [
       "(6835, 8)"
      ]
     },
     "execution_count": 7,
     "metadata": {},
     "output_type": "execute_result"
    }
   ],
   "source": [
    "np.shape(merged_attributes) # as we can see the shape of our data is beautiful and pretty <3"
   ]
  },
  {
   "cell_type": "code",
   "execution_count": 8,
   "metadata": {},
   "outputs": [],
   "source": [
    "# Split the datasets into features (pixel intensities) and labels (attributes)\n",
    "X = merged_pixel_intensities\n",
    "y = merged_attributes"
   ]
  },
  {
   "cell_type": "code",
   "execution_count": 9,
   "metadata": {},
   "outputs": [
    {
     "name": "stdout",
     "output_type": "stream",
     "text": [
      "(6835, 576) (6835, 8)\n"
     ]
    }
   ],
   "source": [
    "print(X.shape, y.shape) # we check if the correct shape is still preserved\n"
   ]
  },
  {
   "cell_type": "code",
   "execution_count": 10,
   "metadata": {},
   "outputs": [],
   "source": [
    "# Splitting data into training (70%) and the rest (30%) - testing and validation\n",
    "#X_train, X_temp, y_train, y_temp = train_test_split(merged_pixel_intensities, merged_attributes, test_size=0.3, random_state=42)\n",
    "#X_test, X_val, y_test, y_val = train_test_split(X_temp, y_temp, test_size=0.5, random_state=42)\n",
    "\n",
    "X_train, X_test_val, y_train, y_test_val = train_test_split(X, y, test_size=0.3, random_state=42)\n",
    "X_test, X_val, y_test, y_val = train_test_split(X_test_val, y_test_val, test_size=0.5, random_state=42)"
   ]
  },
  {
   "cell_type": "code",
   "execution_count": 12,
   "metadata": {},
   "outputs": [
    {
     "name": "stdout",
     "output_type": "stream",
     "text": [
      "(4784, 576) (1025, 576) (1026, 576)\n"
     ]
    }
   ],
   "source": [
    "print(X_train.shape,X_test.shape,X_val.shape)  # when we sum up the number of rows in each set we get a total of 6835 - which is our total amount ofn images"
   ]
  },
  {
   "cell_type": "code",
   "execution_count": 13,
   "metadata": {},
   "outputs": [
    {
     "name": "stdout",
     "output_type": "stream",
     "text": [
      "(4784, 8) (1025, 8) (1026, 8)\n"
     ]
    }
   ],
   "source": [
    "print(y_train.shape,y_test.shape,y_val.shape) # our sets for attributes are also properly divided "
   ]
  },
  {
   "cell_type": "code",
   "execution_count": 16,
   "metadata": {},
   "outputs": [],
   "source": [
    "# function for plotting sample data\n",
    "def plot_sample(X, y, index):\n",
    "    plt.figure(figsize=(15, 2))\n",
    "    # Reshape the image data into a 2D array (assuming grayscale images)\n",
    "    image = X[index].reshape((24, 24))  # Adjust dimensions based on your image size\n",
    "    plt.imshow(image, cmap='gray')  # Use 'gray' colormap for grayscale images\n",
    "    plt.title(f\"Attribute: {y[index]}\")  # Display attribute label as title\n",
    "    plt.axis('off')  # Hide axis\n",
    "    plt.show()"
   ]
  },
  {
   "cell_type": "code",
   "execution_count": 17,
   "metadata": {},
   "outputs": [
    {
     "data": {
      "image/png": "[encoded data removed]",
      "text/plain": [
       "<Figure size 1500x200 with 1 Axes>"
      ]
     },
     "metadata": {},
     "output_type": "display_data"
    }
   ],
   "source": [
    "plot_sample(X_train, y_train, 0)"
   ]
  },
  {
   "cell_type": "code",
   "execution_count": 22,
   "metadata": {},
   "outputs": [],
   "source": [
    "# now we will normalize pixel values to get better convergence during the training process\n",
    "# for grayscale images, each pixel value represents the intensity of light, ranging from 0 (black) to 255 (white)\n",
    "# by dividing each pixel value by 255, we effectively scale the intensity values to the range [0, 1]\n",
    "\n",
    "X_train = X_train / 255.0\n",
    "X_test = X_test / 255.0\n",
    "X_val = X_val / 255.0"
   ]
  },
  {
   "cell_type": "code",
   "execution_count": 23,
   "metadata": {},
   "outputs": [
    {
     "name": "stdout",
     "output_type": "stream",
     "text": [
      "(4784, 576) (1025, 576) (1026, 576)\n"
     ]
    }
   ],
   "source": [
    "print(X_train.shape,X_test.shape,X_val.shape)"
   ]
  },
  {
   "cell_type": "code",
   "execution_count": 27,
   "metadata": {},
   "outputs": [
    {
     "name": "stdout",
     "output_type": "stream",
     "text": [
      "[[1.09898962e-05 9.88862745e-06 8.34345252e-06 ... 4.14938870e-06\n",
      "  3.48716647e-06 3.70791234e-06]\n",
      " [3.71283353e-06 4.72824298e-06 7.82036140e-06 ... 6.53837755e-06\n",
      "  7.59832372e-06 5.07695502e-06]\n",
      " [3.80841215e-06 4.20795079e-06 4.08681276e-06 ... 1.05087120e-05\n",
      "  3.85124183e-06 5.83713956e-07]\n",
      " ...\n",
      " [1.00434910e-05 3.62539023e-06 5.08692042e-06 ... 4.49279508e-06\n",
      "  7.49722414e-06 8.35054210e-06]\n",
      " [2.37557862e-06 3.07572472e-06 4.26097655e-06 ... 1.31555402e-05\n",
      "  1.39423914e-05 1.33088043e-05]\n",
      " [1.52388158e-05 1.17645213e-05 1.01580777e-05 ... 7.54100730e-06\n",
      "  7.09879277e-06 6.47400231e-06]]\n"
     ]
    }
   ],
   "source": [
    "print(X_train[:20]) # we check if pixel intensities have been successfully normalized"
   ]
  },
  {
   "cell_type": "code",
   "execution_count": 35,
   "metadata": {},
   "outputs": [
    {
     "data": {
      "text/plain": [
       "array([ 1.93568627e-06,  5.82191465e-07, -1.11141869e-07, -7.33471742e-07,\n",
       "        5.17416378e-07])"
      ]
     },
     "execution_count": 35,
     "metadata": {},
     "output_type": "execute_result"
    }
   ],
   "source": [
    "# now we need to reshape our data so that it can be fed to the neural network\n",
    "X_train = X_train.reshape(-1,)\n",
    "X_train[:5]\n",
    "\n",
    "X_test = X_test.reshape(-1,)\n",
    "X_test[:5]\n",
    "\n",
    "X_val = X_val.reshape(-1,)\n",
    "X_val[:5]"
   ]
  },
  {
   "cell_type": "code",
   "execution_count": null,
   "metadata": {},
   "outputs": [],
   "source": [
    "num_classes = 8\n",
    "\n",
    "def make_model(input_shape):\n",
    "    input_layer = layers.Input(shape=input_shape)\n",
    "\n",
    "    conv1 = layers.Conv2D(filters=64, kernel_size=(3, 3), padding=\"same\")(input_layer)\n",
    "    conv1 = layers.BatchNormalization()(conv1)\n",
    "    conv1 = layers.LeakyReLU()(conv1)\n",
    "\n",
    "    conv2 = layers.Conv2D(filters=64, kernel_size=(3, 3), padding=\"same\")(conv1)\n",
    "    conv2 = layers.BatchNormalization()(conv2)\n",
    "    conv2 = layers.LeakyReLU()(conv2)\n",
    "\n",
    "    conv3 = layers.Conv2D(filters=64, kernel_size=(3, 3), padding=\"same\")(conv2)\n",
    "    conv3 = layers.BatchNormalization()(conv3)\n",
    "    conv3 = layers.LeakyReLU()(conv3)\n",
    "\n",
    "    gap = layers.GlobalAveragePooling2D()(conv3)\n",
    "\n",
    "    output_layer = layers.Dense(num_classes, activation=\"softmax\")(gap)\n",
    "\n",
    "    return models.Model(inputs=input_layer, outputs=output_layer)"
   ]
  },
  {
   "cell_type": "code",
   "execution_count": null,
   "metadata": {},
   "outputs": [],
   "source": [
    "# Example input shape for grayscale images of size 24x24\n",
    "input_shape = (24, 24, 1)"
   ]
  },
  {
   "cell_type": "code",
   "execution_count": null,
   "metadata": {},
   "outputs": [],
   "source": [
    "from keras import layers\n",
    "model = make_model(input_shape=input_shape)"
   ]
  },
  {
   "cell_type": "code",
   "execution_count": null,
   "metadata": {},
   "outputs": [],
   "source": [
    "keras.utils.plot_model(model, show_shapes=True)"
   ]
  },
  {
   "cell_type": "code",
   "execution_count": null,
   "metadata": {},
   "outputs": [],
   "source": [
    "model.summary()"
   ]
  },
  {
   "cell_type": "code",
   "execution_count": null,
   "metadata": {},
   "outputs": [],
   "source": [
    "# Normalize the image data\n",
    "#X_train = X_train.reshape((-1, 24, 24, 1)) / 255.0\n",
    "#X_val = X_val.reshape((-1, 24, 24, 1)) / 255.0\n",
    "#X_test = X_test.reshape((-1, 24, 24, 1)) / 255.0\n",
    "# Normalize the image data\n",
    "X_train = X_train / 255.0\n",
    "X_val = X_val / 255.0\n",
    "X_test = X_test / 255.0"
   ]
  },
  {
   "cell_type": "code",
   "execution_count": null,
   "metadata": {},
   "outputs": [],
   "source": [
    "print(X_train.shape,X_test.shape,X_val.shape)\n",
    "# 4784 - nr of images, 24 -pixels x, 24 - pixels y, 1 - pictures are in grayscale"
   ]
  },
  {
   "cell_type": "code",
   "execution_count": null,
   "metadata": {},
   "outputs": [],
   "source": [
    "# Compile the model\n",
    "model.compile(optimizer='adam', loss='categorical_crossentropy', metrics=['accuracy'])"
   ]
  },
  {
   "cell_type": "code",
   "execution_count": null,
   "metadata": {},
   "outputs": [],
   "source": [
    "# Train the model\n",
    "model.fit(X_train, y_train, validation_data=(X_val, y_val), epochs=10, batch_size=32)"
   ]
  },
  {
   "cell_type": "code",
   "execution_count": null,
   "metadata": {},
   "outputs": [],
   "source": [
    "# Evaluate the model\n",
    "model.evaluate(X_test, y_test)"
   ]
  }
 ],
 "metadata": {
  "kernelspec": {
   "display_name": "Python 3",
   "language": "python",
   "name": "python3"
  },
  "language_info": {
   "codemirror_mode": {
    "name": "ipython",
    "version": 3
   },
   "file_extension": ".py",
   "mimetype": "text/x-python",
   "name": "python",
   "nbconvert_exporter": "python",
   "pygments_lexer": "ipython3",
   "version": "3.12.2"
  },
  "orig_nbformat": 4
 },
 "nbformat": 4,
 "nbformat_minor": 2
}
